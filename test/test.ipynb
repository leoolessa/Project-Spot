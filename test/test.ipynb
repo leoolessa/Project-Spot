{
 "cells": [
  {
   "cell_type": "markdown",
   "metadata": {},
   "source": [
    "# Teste do projeto spot\n",
    "    - pegar o token\n",
    "    - extrair os dados da api\n",
    "    - criar funcoes para extrair os dados da API\n",
    "    - cria funcao para exportar para mongo"
   ]
  },
  {
   "cell_type": "markdown",
   "metadata": {},
   "source": [
    "# URL's\n",
    "\n",
    "    # query = barcelona\n",
    "        # - 'https://api.foursquare.com/v3/places/search?query=barcelona' \n",
    "    # query = caffe - near = barcelona\n",
    "        - 'https://api.foursquare.com/v3/places/search?query=coffee&near=barcelona' \n",
    "    # query = caffe / categories = 11124 Business and Professional Services > Office / near = barcelona\n",
    "        - 'https://api.foursquare.com/v3/places/search?query=coffee&categories=11124&near=barcelona'     \n",
    "    # categories = 11124 Business and Professional Services > Office / near = barcelona\n",
    "        - 'https://api.foursquare.com/v3/places/search?categories=11124&near=barcelona'\n",
    "    # near = barcelona\n",
    "        - 'https://api.foursquare.com/v3/places/search?near=barcelona'\n",
    "    # 12057\tCommunity and Government > Education > Primary and Secondary School\n",
    "        - https://api.foursquare.com/v3/places/search?query=escola&categories=12057&near=barcelona    \n",
    "    # 12059\tCommunity and Government > Education > Primary and Secondary School > High School (Tem perto do trablho)\n",
    "    - https://api.foursquare.com/v3/places/search?query=escola&categories=12059&near=barcelona\n"
   ]
  },
  {
   "cell_type": "markdown",
   "metadata": {},
   "source": [
    "# Livrarias"
   ]
  },
  {
   "cell_type": "code",
   "execution_count": 1,
   "metadata": {},
   "outputs": [],
   "source": [
    "import requests\n",
    "import json\n",
    "import geopandas\n",
    "import cartoframes\n",
    "import folium\n",
    "import pandas as pd\n",
    "import getpass\n",
    "from pymongo import MongoClient\n",
    "from dotenv import load_dotenv\n",
    "from bson import json_util\n",
    "from folium import Choropleth, Circle, Marker, Icon, Map\n",
    "from folium.plugins import HeatMap, MarkerCluster"
   ]
  },
  {
   "cell_type": "markdown",
   "metadata": {},
   "source": [
    "# API FourSquare "
   ]
  },
  {
   "cell_type": "markdown",
   "metadata": {},
   "source": [
    "# Token"
   ]
  },
  {
   "cell_type": "code",
   "execution_count": 2,
   "metadata": {},
   "outputs": [
    {
     "data": {
      "text/plain": [
       "True"
      ]
     },
     "execution_count": 2,
     "metadata": {},
     "output_type": "execute_result"
    }
   ],
   "source": [
    "load_dotenv()"
   ]
  },
  {
   "cell_type": "code",
   "execution_count": 3,
   "metadata": {},
   "outputs": [],
   "source": [
    "token = getpass.getpass(\"token: \")\n"
   ]
  },
  {
   "cell_type": "markdown",
   "metadata": {},
   "source": [
    "# Funcao Query"
   ]
  },
  {
   "cell_type": "code",
   "execution_count": 4,
   "metadata": {},
   "outputs": [],
   "source": [
    "def extrator_category_near(cate, near):\n",
    "    url = \"https://api.foursquare.com/v3/places/search\"\n",
    "    params = {\n",
    "        \"category\": f'{cate}',\n",
    "        'near': f'{near}'\n",
    "        }\n",
    "    headers = {\n",
    "        \"Accept\": \"application/json\",\n",
    "        \"Authorization\": token\n",
    "    }\n",
    "    response = requests.request(\"GET\", url, params=params, headers=headers).json()\n",
    "    return response"
   ]
  },
  {
   "cell_type": "markdown",
   "metadata": {},
   "source": [
    "# Funcao Query LAT, LONG"
   ]
  },
  {
   "cell_type": "code",
   "execution_count": 5,
   "metadata": {},
   "outputs": [],
   "source": [
    "def extrator_query_ll(query,lat, long):\n",
    "    url = \"https://api.foursquare.com/v3/places/search\"\n",
    "    params = {\n",
    "        \"query\": query,\n",
    "        'll': f'{lat},{long}',\n",
    "        \"sort\":\"DISTANCE\"\n",
    "        }\n",
    "    headers = {\n",
    "        \"Accept\": \"application/json\",\n",
    "        \"Authorization\": token\n",
    "    }\n",
    "    response = requests.request(\"GET\", url, params=params, headers=headers).json()\n",
    "    return response"
   ]
  },
  {
   "cell_type": "markdown",
   "metadata": {},
   "source": [
    "# Funcao Categoria, lat, long"
   ]
  },
  {
   "cell_type": "code",
   "execution_count": 6,
   "metadata": {},
   "outputs": [],
   "source": [
    "def extrator_ll_category(cate,lat, long):\n",
    "    \n",
    "    url = \"https://api.foursquare.com/v3/places/search\"\n",
    "\n",
    "    params = {\n",
    "        'll': f'{lat},{long}',\n",
    "        'category': f'{cate}',\n",
    "        \"sort\":\"DISTANCE\"\n",
    "    }\n",
    "    headers = {\n",
    "        \"Accept\": \"application/json\",\n",
    "        \"Authorization\": token\n",
    "    }\n",
    "\n",
    "    response = requests.request(\"GET\", url, params=params, headers=headers).json()\n",
    "    return response"
   ]
  },
  {
   "cell_type": "code",
   "execution_count": 7,
   "metadata": {},
   "outputs": [],
   "source": [
    "def extrator_query_near_category(query, near, cate):\n",
    "    url = \"https://api.foursquare.com/v3/places/search\"\n",
    "    params = {\n",
    "        \"query\": query,\n",
    "        'near': f'{near}',\n",
    "        'category': f'{cate}',\n",
    "        \"sort\":\"DISTANCE\"\n",
    "        }\n",
    "    headers = {\n",
    "        \"Accept\": \"application/json\",\n",
    "        \"Authorization\": token\n",
    "    }\n",
    "    response = requests.request(\"GET\", url, params=params, headers=headers).json()\n",
    "    return response"
   ]
  },
  {
   "cell_type": "code",
   "execution_count": 8,
   "metadata": {},
   "outputs": [],
   "source": [
    "test_extrator_query_near_category = extrator_query_near_category('school', 'Barcelona', '12057')"
   ]
  },
  {
   "cell_type": "code",
   "execution_count": 9,
   "metadata": {},
   "outputs": [],
   "source": [
    "test_extrator_category_near = extrator_category_near('12057', 'Barcelona')"
   ]
  },
  {
   "cell_type": "code",
   "execution_count": 10,
   "metadata": {},
   "outputs": [],
   "source": [
    "test_extrator_query_ll = extrator_query_ll('school', '41.4069929','2.1951855')"
   ]
  },
  {
   "cell_type": "code",
   "execution_count": 11,
   "metadata": {},
   "outputs": [],
   "source": [
    "test_extrator_ll_category = extrator_ll_category('12057','41.4057403','2.189718')"
   ]
  },
  {
   "cell_type": "code",
   "execution_count": 12,
   "metadata": {},
   "outputs": [
    {
     "name": "stdout",
     "output_type": "stream",
     "text": [
      "Name: Button School - Address: Passatge de Mas de Roda, 14, 08005 Barcelona Catalunya - Latitude: 41.388587, Longitude: 2.158134\n",
      "Name: Global Business School Barcelona - Address: Aragon, 208 (Aribau), 08011 Barcelona Catalunya - Latitude: 41.387934, Longitude: 2.15921\n",
      "Name: Global Business School Barcelona - Address: Carrer D'Aragó, 208, 08011 Barcelona Barcelona - Latitude: 41.387629, Longitude: 2.159155\n",
      "Name: Global Business School Barcelona - Address: Carrer D'Aragó, 179, 08011 Barcelona Barcelona - Latitude: 41.387155, Longitude: 2.157936\n",
      "Name: Barcelona Business School - Address: Calle Valencia, 158, 08011 Barcelona Barcelona - Latitude: 41.386466, Longitude: 2.155026\n",
      "Name: Barcelona 3d School - Address: Rambla Catalunya, 53, 08007 Barcelona Barcelona - Latitude: 41.390509, Longitude: 2.163853\n",
      "Name: FX Animation Barcelona 3D School - Address: Pelai, 11, 08001 Barcelona Catalunya - Latitude: 41.390509, Longitude: 2.163853\n",
      "Name: Virtual Drummer School - Address: Calle Rosellón, 188, 08008 Barcelona Barcelona - Latitude: 41.39268, Longitude: 2.156745\n",
      "Name: UPF Barcelona School of Management - Address: Balmes 132-134 (C. Rosselló), 08008 Barcelona Catalunya - Latitude: 41.393643, Longitude: 2.157157\n",
      "Name: Speakeasy Barcelona - Address: Ronda Universitat, 7, 08007 Barcelona Catalunya - Latitude: 41.38638, Longitude: 2.165375\n"
     ]
    }
   ],
   "source": [
    "for result in test_extrator_query_near_category['results']:\n",
    "    name = result['name']\n",
    "    address = result['location']['formatted_address']\n",
    "    latitude = result['geocodes']['main']['latitude']\n",
    "    longitude = result['geocodes']['main']['longitude']\n",
    "    print(f\"Name: {name} - Address: {address} - Latitude: {latitude}, Longitude: {longitude}\")"
   ]
  },
  {
   "cell_type": "code",
   "execution_count": 13,
   "metadata": {},
   "outputs": [
    {
     "name": "stdout",
     "output_type": "stream",
     "text": [
      "Name: Roast Club - Address: Carrer de València, 190 (C. de València), 08011 Barcelona Catalunya - Latitude: 41.387825, Longitude: 2.157221\n",
      "Name: La Central - Address: Calle Mallorca, 237 (C. de Balmes), 08008 Barcelona Catalunya - Latitude: 41.392076, Longitude: 2.159978\n",
      "Name: Honest Greens Rambla Catalunya - Address: Rambla Catalunya, 3, 08007 Barcelona Catalunya - Latitude: 41.387526, Longitude: 2.167989\n",
      "Name: Parking Pizza - Address: Calle Londres, 98, 08036 Barcelona Catalunya - Latitude: 41.393794, Longitude: 2.151435\n",
      "Name: Senyor Vermut - Address: Provença, 85, 08029 Barcelona Catalunya - Latitude: 41.385903, Longitude: 2.149395\n",
      "Name: La Central del Raval - Address: Carrer D'Elisabets, 6, 08001 Barcelona Catalunya - Latitude: 41.383572, Longitude: 2.168847\n",
      "Name: Bodega Armando - Address: Calle Bisbe Laguarda, 3, 08001 Barcelona Catalunya - Latitude: 41.3799, Longitude: 2.164802\n",
      "Name: The Egg Lab - Address: Carrer de Sepúlveda, 80, 08015 Barcelona Catalunya - Latitude: 41.378512, Longitude: 2.156292\n",
      "Name: Oggi Gelato - Address: Carrer Comtal, 15, 08002 Barcelona Catalunya - Latitude: 41.386594, Longitude: 2.173392\n",
      "Name: Funky Bakers - Address: Carrer de la Diputació, 347, 08009 Barcelona Catalunya - Latitude: 41.394916, Longitude: 2.172866\n"
     ]
    }
   ],
   "source": [
    "for result in test_extrator_category_near['results']:\n",
    "    name = result['name']\n",
    "    address = result['location']['formatted_address']\n",
    "    latitude = result['geocodes']['main']['latitude']\n",
    "    longitude = result['geocodes']['main']['longitude']\n",
    "    print(f\"Name: {name} - Address: {address} - Latitude: {latitude}, Longitude: {longitude}\")"
   ]
  },
  {
   "cell_type": "code",
   "execution_count": 14,
   "metadata": {},
   "outputs": [
    {
     "name": "stdout",
     "output_type": "stream",
     "text": [
      "Name: Foxize School - Address: Llacuna, 162, 08018 Barcelona Catalunya - Latitude: 41.406352, Longitude: 2.192229\n",
      "Name: Pepe School Land - Address: Passatge Pere Ripoll, 5 (Rambla del Poble Nou con Pere IV), 08005 Barcelona Catalunya - Latitude: 41.403333, Longitude: 2.198838\n",
      "Name: Old School Bakery Cafe - Address: Bilbao, 216 (Aragó), 08018 Barcelona Catalunya - Latitude: 41.411034, Longitude: 2.191441\n",
      "Name: Old School - Address: Carrer de Bilbao, 216 (carrer de Aragó), 08018 Barcelona Catalunya - Latitude: 41.411682, Longitude: 2.19192\n",
      "Name: Chisholm School - Address: Rambla Guipuscoa, 11, 08018 Barcelona Catalunya - Latitude: 41.413524, Longitude: 2.19293\n",
      "Name: Today School - Address: Calle Valencia, 610, 08026 Barcelona Catalunya - Latitude: 41.409505, Longitude: 2.185992\n",
      "Name: Urban School - Address: Llull, 187, 08005 Barcelona Catalunya - Latitude: 41.40129, Longitude: 2.202319\n",
      "Name: Fashion Group Bcn School - Address: Pujades, 142, 08005 Barcelona Catalunya - Latitude: 41.399275, Longitude: 2.197754\n",
      "Name: Complex Esportiu Municipal Bac de Roda - Address: Rambla Guipúscoa, 25 (Bac de Roda), 08018 Barcelona Catalunya - Latitude: 41.414447, Longitude: 2.194152\n",
      "Name: Biblioteca Poblenou-Manuel Arranz - Address: Joncar, 35, 08005 Barcelona Catalunya - Latitude: 41.401412, Longitude: 2.204491\n"
     ]
    }
   ],
   "source": [
    "for result in test_extrator_query_ll['results']:\n",
    "    name = result['name']\n",
    "    address = result['location']['formatted_address']\n",
    "    latitude = result['geocodes']['main']['latitude']\n",
    "    longitude = result['geocodes']['main']['longitude']\n",
    "    print(f\"Name: {name} - Address: {address} - Latitude: {latitude}, Longitude: {longitude}\")"
   ]
  },
  {
   "cell_type": "code",
   "execution_count": 15,
   "metadata": {},
   "outputs": [
    {
     "name": "stdout",
     "output_type": "stream",
     "text": [
      "Name: Little Fern - Address: Calle Pere IV, 168 (C. Llacuna), 08005 Barcelona Catalunya - Latitude: 41.402328, Longitude: 2.197571\n",
      "Name: La Tavernícola - Address: Roc Boronat, 70 (Calle De Pujades), 08005 Barcelona Catalunya - Latitude: 41.400358, Longitude: 2.197944\n",
      "Name: Three Marks Coffee - Address: Calle D'Ausiàs Marc, 151, 08013 Barcelona Catalunya - Latitude: 41.397168, Longitude: 2.183123\n",
      "Name: Can Dendê - Address: Ciutat de Granada, 44 (C. de Llull), 08005 Barcelona Catalunya - Latitude: 41.39836, Longitude: 2.198345\n",
      "Name: Dino's Ice Cream - Address: Rambla Poble Nou, 59 (Llul), 08005 Barcelona Catalunya - Latitude: 41.40091, Longitude: 2.201478\n",
      "Name: Plaça de Gaudí - Address: 08013 Barcelona Catalunya - Latitude: 41.404427, Longitude: 2.175549\n",
      "Name: Nativity Towers (Torres Naixement) - Address: Calle de Mallorca, 401, Barcelona Catalunya - Latitude: 41.403879, Longitude: 2.17468\n",
      "Name: The Basilica of the Sagrada Familia (Temple Expiatori de la Sagrada Família) - Address: Carrer de Mallorca, 401 (C. de Sardenya), 08013 Barcelona Catalunya - Latitude: 41.403458, Longitude: 2.174397\n",
      "Name: Museu Basilica de la Sagrada Familia - Address: Calle de Mallorca, 401, 08013 Barcelona Catalunya - Latitude: 41.403077, Longitude: 2.174142\n",
      "Name: Cripta de la Sagrada Família - Address: Calle de Mallorca, 401, Barcelona Catalunya - Latitude: 41.40317, Longitude: 2.173979\n"
     ]
    }
   ],
   "source": [
    "for result in test_extrator_ll_category['results']:\n",
    "    name = result['name']\n",
    "    address = result['location']['formatted_address']\n",
    "    latitude = result['geocodes']['main']['latitude']\n",
    "    longitude = result['geocodes']['main']['longitude']\n",
    "    print(f\"Name: {name} - Address: {address} - Latitude: {latitude}, Longitude: {longitude}\")"
   ]
  },
  {
   "cell_type": "code",
   "execution_count": 16,
   "metadata": {},
   "outputs": [],
   "source": [
    "def locals(data, cate):\n",
    "    list_local = []\n",
    "    df = pd.DataFrame(columns = ['Category','Name', 'Address', 'Latitude', 'Longitude'])\n",
    "    for result in data['results']:\n",
    "        local = {}\n",
    "        local['Category'] = cate\n",
    "        local['Name'] = result['name']\n",
    "        local['Address'] = result['location']['formatted_address'] \n",
    "        local['Latitude'] = result['geocodes']['main']['latitude']\n",
    "        local['Longitude'] = result['geocodes']['main']['longitude']\n",
    "        list_local.append(local)\n",
    "    df = pd.DataFrame(list_local)\n",
    "    return df    \n",
    "        "
   ]
  },
  {
   "cell_type": "code",
   "execution_count": 17,
   "metadata": {},
   "outputs": [
    {
     "data": {
      "text/html": [
       "<div>\n",
       "<style scoped>\n",
       "    .dataframe tbody tr th:only-of-type {\n",
       "        vertical-align: middle;\n",
       "    }\n",
       "\n",
       "    .dataframe tbody tr th {\n",
       "        vertical-align: top;\n",
       "    }\n",
       "\n",
       "    .dataframe thead th {\n",
       "        text-align: right;\n",
       "    }\n",
       "</style>\n",
       "<table border=\"1\" class=\"dataframe\">\n",
       "  <thead>\n",
       "    <tr style=\"text-align: right;\">\n",
       "      <th></th>\n",
       "      <th>Category</th>\n",
       "      <th>Name</th>\n",
       "      <th>Address</th>\n",
       "      <th>Latitude</th>\n",
       "      <th>Longitude</th>\n",
       "    </tr>\n",
       "  </thead>\n",
       "  <tbody>\n",
       "    <tr>\n",
       "      <th>0</th>\n",
       "      <td>School</td>\n",
       "      <td>Foxize School</td>\n",
       "      <td>Llacuna, 162, 08018 Barcelona Catalunya</td>\n",
       "      <td>41.406352</td>\n",
       "      <td>2.192229</td>\n",
       "    </tr>\n",
       "    <tr>\n",
       "      <th>1</th>\n",
       "      <td>School</td>\n",
       "      <td>Pepe School Land</td>\n",
       "      <td>Passatge Pere Ripoll, 5 (Rambla del Poble Nou ...</td>\n",
       "      <td>41.403333</td>\n",
       "      <td>2.198838</td>\n",
       "    </tr>\n",
       "    <tr>\n",
       "      <th>2</th>\n",
       "      <td>School</td>\n",
       "      <td>Old School Bakery Cafe</td>\n",
       "      <td>Bilbao, 216 (Aragó), 08018 Barcelona Catalunya</td>\n",
       "      <td>41.411034</td>\n",
       "      <td>2.191441</td>\n",
       "    </tr>\n",
       "    <tr>\n",
       "      <th>3</th>\n",
       "      <td>School</td>\n",
       "      <td>Old School</td>\n",
       "      <td>Carrer de Bilbao, 216 (carrer de Aragó), 08018...</td>\n",
       "      <td>41.411682</td>\n",
       "      <td>2.191920</td>\n",
       "    </tr>\n",
       "    <tr>\n",
       "      <th>4</th>\n",
       "      <td>School</td>\n",
       "      <td>Chisholm School</td>\n",
       "      <td>Rambla Guipuscoa, 11, 08018 Barcelona Catalunya</td>\n",
       "      <td>41.413524</td>\n",
       "      <td>2.192930</td>\n",
       "    </tr>\n",
       "    <tr>\n",
       "      <th>5</th>\n",
       "      <td>School</td>\n",
       "      <td>Today School</td>\n",
       "      <td>Calle Valencia, 610, 08026 Barcelona Catalunya</td>\n",
       "      <td>41.409505</td>\n",
       "      <td>2.185992</td>\n",
       "    </tr>\n",
       "    <tr>\n",
       "      <th>6</th>\n",
       "      <td>School</td>\n",
       "      <td>Urban School</td>\n",
       "      <td>Llull, 187, 08005 Barcelona Catalunya</td>\n",
       "      <td>41.401290</td>\n",
       "      <td>2.202319</td>\n",
       "    </tr>\n",
       "    <tr>\n",
       "      <th>7</th>\n",
       "      <td>School</td>\n",
       "      <td>Fashion Group Bcn School</td>\n",
       "      <td>Pujades, 142, 08005 Barcelona Catalunya</td>\n",
       "      <td>41.399275</td>\n",
       "      <td>2.197754</td>\n",
       "    </tr>\n",
       "    <tr>\n",
       "      <th>8</th>\n",
       "      <td>School</td>\n",
       "      <td>Complex Esportiu Municipal Bac de Roda</td>\n",
       "      <td>Rambla Guipúscoa, 25 (Bac de Roda), 08018 Barc...</td>\n",
       "      <td>41.414447</td>\n",
       "      <td>2.194152</td>\n",
       "    </tr>\n",
       "    <tr>\n",
       "      <th>9</th>\n",
       "      <td>School</td>\n",
       "      <td>Biblioteca Poblenou-Manuel Arranz</td>\n",
       "      <td>Joncar, 35, 08005 Barcelona Catalunya</td>\n",
       "      <td>41.401412</td>\n",
       "      <td>2.204491</td>\n",
       "    </tr>\n",
       "  </tbody>\n",
       "</table>\n",
       "</div>"
      ],
      "text/plain": [
       "  Category                                    Name  \\\n",
       "0   School                           Foxize School   \n",
       "1   School                        Pepe School Land   \n",
       "2   School                  Old School Bakery Cafe   \n",
       "3   School                              Old School   \n",
       "4   School                         Chisholm School   \n",
       "5   School                            Today School   \n",
       "6   School                            Urban School   \n",
       "7   School                Fashion Group Bcn School   \n",
       "8   School  Complex Esportiu Municipal Bac de Roda   \n",
       "9   School       Biblioteca Poblenou-Manuel Arranz   \n",
       "\n",
       "                                             Address   Latitude  Longitude  \n",
       "0            Llacuna, 162, 08018 Barcelona Catalunya  41.406352   2.192229  \n",
       "1  Passatge Pere Ripoll, 5 (Rambla del Poble Nou ...  41.403333   2.198838  \n",
       "2     Bilbao, 216 (Aragó), 08018 Barcelona Catalunya  41.411034   2.191441  \n",
       "3  Carrer de Bilbao, 216 (carrer de Aragó), 08018...  41.411682   2.191920  \n",
       "4    Rambla Guipuscoa, 11, 08018 Barcelona Catalunya  41.413524   2.192930  \n",
       "5     Calle Valencia, 610, 08026 Barcelona Catalunya  41.409505   2.185992  \n",
       "6              Llull, 187, 08005 Barcelona Catalunya  41.401290   2.202319  \n",
       "7            Pujades, 142, 08005 Barcelona Catalunya  41.399275   2.197754  \n",
       "8  Rambla Guipúscoa, 25 (Bac de Roda), 08018 Barc...  41.414447   2.194152  \n",
       "9              Joncar, 35, 08005 Barcelona Catalunya  41.401412   2.204491  "
      ]
     },
     "execution_count": 17,
     "metadata": {},
     "output_type": "execute_result"
    }
   ],
   "source": [
    "result_test_extrator_query_ll = locals(test_extrator_query_ll, 'School')\n",
    "result_test_extrator_query_ll"
   ]
  },
  {
   "cell_type": "code",
   "execution_count": 18,
   "metadata": {},
   "outputs": [],
   "source": [
    "test_map = Map(location=['41.4046268','2.1893276'], zoom_start=15)"
   ]
  },
  {
   "cell_type": "code",
   "execution_count": 19,
   "metadata": {},
   "outputs": [],
   "source": [
    "def map_maker(data):\n",
    "    for i, r in data.iterrows():\n",
    "        name = r['Name']\n",
    "        lat = r['Latitude']\n",
    "        long = r['Longitude']\n",
    "        color = 'blue'\n",
    "        icon_color = 'black'\n",
    "        icon = 'graduation-cap'\n",
    "        icon = Icon(\n",
    "                    color = color,\n",
    "                    icon_color = icon_color,\n",
    "                    icon = icon,\n",
    "                    prefix=\"fa\" # font-awesome website: fa\n",
    "            )\n",
    "        test_marker = Marker(location=[lat, long], tooltip=name, icon= icon)\n",
    "        test_marker.add_to(test_map)\n",
    "    return test_map"
   ]
  },
  {
   "cell_type": "code",
   "execution_count": 20,
   "metadata": {},
   "outputs": [],
   "source": [
    "school_test = map_maker(result_test_extrator_query_ll)\n"
   ]
  },
  {
   "cell_type": "code",
   "execution_count": 23,
   "metadata": {},
   "outputs": [
    {
     "data": {
      "text/html": [
       "<div style=\"width:100%;\"><div style=\"position:relative;width:100%;height:0;padding-bottom:60%;\"><span style=\"color:#565656\">Make this Notebook Trusted to load map: File -> Trust Notebook</span><iframe srcdoc=\"&lt;!DOCTYPE html&gt;\n",
       "&lt;html&gt;\n",
       "&lt;head&gt;\n",
       "    \n",
       "    &lt;meta http-equiv=&quot;content-type&quot; content=&quot;text/html; charset=UTF-8&quot; /&gt;\n",
       "    \n",
       "        &lt;script&gt;\n",
       "            L_NO_TOUCH = false;\n",
       "            L_DISABLE_3D = false;\n",
       "        &lt;/script&gt;\n",
       "    \n",
       "    &lt;style&gt;html, body {width: 100%;height: 100%;margin: 0;padding: 0;}&lt;/style&gt;\n",
       "    &lt;style&gt;#map {position:absolute;top:0;bottom:0;right:0;left:0;}&lt;/style&gt;\n",
       "    &lt;script src=&quot;https://cdn.jsdelivr.net/npm/leaflet@1.9.3/dist/leaflet.js&quot;&gt;&lt;/script&gt;\n",
       "    &lt;script src=&quot;https://code.jquery.com/jquery-3.7.1.min.js&quot;&gt;&lt;/script&gt;\n",
       "    &lt;script src=&quot;https://cdn.jsdelivr.net/npm/bootstrap@5.2.2/dist/js/bootstrap.bundle.min.js&quot;&gt;&lt;/script&gt;\n",
       "    &lt;script src=&quot;https://cdnjs.cloudflare.com/ajax/libs/Leaflet.awesome-markers/2.0.2/leaflet.awesome-markers.js&quot;&gt;&lt;/script&gt;\n",
       "    &lt;link rel=&quot;stylesheet&quot; href=&quot;https://cdn.jsdelivr.net/npm/leaflet@1.9.3/dist/leaflet.css&quot;/&gt;\n",
       "    &lt;link rel=&quot;stylesheet&quot; href=&quot;https://cdn.jsdelivr.net/npm/bootstrap@5.2.2/dist/css/bootstrap.min.css&quot;/&gt;\n",
       "    &lt;link rel=&quot;stylesheet&quot; href=&quot;https://netdna.bootstrapcdn.com/bootstrap/3.0.0/css/bootstrap.min.css&quot;/&gt;\n",
       "    &lt;link rel=&quot;stylesheet&quot; href=&quot;https://cdn.jsdelivr.net/npm/@fortawesome/fontawesome-free@6.2.0/css/all.min.css&quot;/&gt;\n",
       "    &lt;link rel=&quot;stylesheet&quot; href=&quot;https://cdnjs.cloudflare.com/ajax/libs/Leaflet.awesome-markers/2.0.2/leaflet.awesome-markers.css&quot;/&gt;\n",
       "    &lt;link rel=&quot;stylesheet&quot; href=&quot;https://cdn.jsdelivr.net/gh/python-visualization/folium/folium/templates/leaflet.awesome.rotate.min.css&quot;/&gt;\n",
       "    \n",
       "            &lt;meta name=&quot;viewport&quot; content=&quot;width=device-width,\n",
       "                initial-scale=1.0, maximum-scale=1.0, user-scalable=no&quot; /&gt;\n",
       "            &lt;style&gt;\n",
       "                #map_8f65d50679f579ec9da6ef3a983e3c2a {\n",
       "                    position: relative;\n",
       "                    width: 100.0%;\n",
       "                    height: 100.0%;\n",
       "                    left: 0.0%;\n",
       "                    top: 0.0%;\n",
       "                }\n",
       "                .leaflet-container { font-size: 1rem; }\n",
       "            &lt;/style&gt;\n",
       "        \n",
       "&lt;/head&gt;\n",
       "&lt;body&gt;\n",
       "    \n",
       "    \n",
       "            &lt;div class=&quot;folium-map&quot; id=&quot;map_8f65d50679f579ec9da6ef3a983e3c2a&quot; &gt;&lt;/div&gt;\n",
       "        \n",
       "&lt;/body&gt;\n",
       "&lt;script&gt;\n",
       "    \n",
       "    \n",
       "            var map_8f65d50679f579ec9da6ef3a983e3c2a = L.map(\n",
       "                &quot;map_8f65d50679f579ec9da6ef3a983e3c2a&quot;,\n",
       "                {\n",
       "                    center: [41.4046268, 2.1893276],\n",
       "                    crs: L.CRS.EPSG3857,\n",
       "                    zoom: 15,\n",
       "                    zoomControl: true,\n",
       "                    preferCanvas: false,\n",
       "                }\n",
       "            );\n",
       "\n",
       "            \n",
       "\n",
       "        \n",
       "    \n",
       "            var tile_layer_8f8c23a813392ba37d159585f8d76821 = L.tileLayer(\n",
       "                &quot;https://tile.openstreetmap.org/{z}/{x}/{y}.png&quot;,\n",
       "                {&quot;attribution&quot;: &quot;\\u0026copy; \\u003ca href=\\&quot;https://www.openstreetmap.org/copyright\\&quot;\\u003eOpenStreetMap\\u003c/a\\u003e contributors&quot;, &quot;detectRetina&quot;: false, &quot;maxNativeZoom&quot;: 19, &quot;maxZoom&quot;: 19, &quot;minZoom&quot;: 0, &quot;noWrap&quot;: false, &quot;opacity&quot;: 1, &quot;subdomains&quot;: &quot;abc&quot;, &quot;tms&quot;: false}\n",
       "            );\n",
       "        \n",
       "    \n",
       "            tile_layer_8f8c23a813392ba37d159585f8d76821.addTo(map_8f65d50679f579ec9da6ef3a983e3c2a);\n",
       "        \n",
       "    \n",
       "            var marker_52dd3d80b5c8f8434fada6e56cc0a82f = L.marker(\n",
       "                [41.406352, 2.192229],\n",
       "                {}\n",
       "            ).addTo(map_8f65d50679f579ec9da6ef3a983e3c2a);\n",
       "        \n",
       "    \n",
       "            var icon_bed24af3d3bd6334b6ce8c6fcaa3ed72 = L.AwesomeMarkers.icon(\n",
       "                {&quot;extraClasses&quot;: &quot;fa-rotate-0&quot;, &quot;icon&quot;: &quot;graduation-cap&quot;, &quot;iconColor&quot;: &quot;black&quot;, &quot;markerColor&quot;: &quot;blue&quot;, &quot;prefix&quot;: &quot;fa&quot;}\n",
       "            );\n",
       "            marker_52dd3d80b5c8f8434fada6e56cc0a82f.setIcon(icon_bed24af3d3bd6334b6ce8c6fcaa3ed72);\n",
       "        \n",
       "    \n",
       "            marker_52dd3d80b5c8f8434fada6e56cc0a82f.bindTooltip(\n",
       "                `&lt;div&gt;\n",
       "                     Foxize School\n",
       "                 &lt;/div&gt;`,\n",
       "                {&quot;sticky&quot;: true}\n",
       "            );\n",
       "        \n",
       "    \n",
       "            var marker_f43acd8724eb09bace6eedc761060a5e = L.marker(\n",
       "                [41.403333, 2.198838],\n",
       "                {}\n",
       "            ).addTo(map_8f65d50679f579ec9da6ef3a983e3c2a);\n",
       "        \n",
       "    \n",
       "            var icon_7d4ac5bac79dc0762a0a205fd5ad446b = L.AwesomeMarkers.icon(\n",
       "                {&quot;extraClasses&quot;: &quot;fa-rotate-0&quot;, &quot;icon&quot;: &quot;graduation-cap&quot;, &quot;iconColor&quot;: &quot;black&quot;, &quot;markerColor&quot;: &quot;blue&quot;, &quot;prefix&quot;: &quot;fa&quot;}\n",
       "            );\n",
       "            marker_f43acd8724eb09bace6eedc761060a5e.setIcon(icon_7d4ac5bac79dc0762a0a205fd5ad446b);\n",
       "        \n",
       "    \n",
       "            marker_f43acd8724eb09bace6eedc761060a5e.bindTooltip(\n",
       "                `&lt;div&gt;\n",
       "                     Pepe School Land\n",
       "                 &lt;/div&gt;`,\n",
       "                {&quot;sticky&quot;: true}\n",
       "            );\n",
       "        \n",
       "    \n",
       "            var marker_5060070b503b6ab4defb0bfa076d39db = L.marker(\n",
       "                [41.411034, 2.191441],\n",
       "                {}\n",
       "            ).addTo(map_8f65d50679f579ec9da6ef3a983e3c2a);\n",
       "        \n",
       "    \n",
       "            var icon_f5ca20bcdbded3924c11900a520e8f3d = L.AwesomeMarkers.icon(\n",
       "                {&quot;extraClasses&quot;: &quot;fa-rotate-0&quot;, &quot;icon&quot;: &quot;graduation-cap&quot;, &quot;iconColor&quot;: &quot;black&quot;, &quot;markerColor&quot;: &quot;blue&quot;, &quot;prefix&quot;: &quot;fa&quot;}\n",
       "            );\n",
       "            marker_5060070b503b6ab4defb0bfa076d39db.setIcon(icon_f5ca20bcdbded3924c11900a520e8f3d);\n",
       "        \n",
       "    \n",
       "            marker_5060070b503b6ab4defb0bfa076d39db.bindTooltip(\n",
       "                `&lt;div&gt;\n",
       "                     Old School Bakery Cafe\n",
       "                 &lt;/div&gt;`,\n",
       "                {&quot;sticky&quot;: true}\n",
       "            );\n",
       "        \n",
       "    \n",
       "            var marker_21de5853b037fc07484f7cc72a9450cb = L.marker(\n",
       "                [41.411682, 2.19192],\n",
       "                {}\n",
       "            ).addTo(map_8f65d50679f579ec9da6ef3a983e3c2a);\n",
       "        \n",
       "    \n",
       "            var icon_bd456f2dadc9a67bd0528767b3f0a362 = L.AwesomeMarkers.icon(\n",
       "                {&quot;extraClasses&quot;: &quot;fa-rotate-0&quot;, &quot;icon&quot;: &quot;graduation-cap&quot;, &quot;iconColor&quot;: &quot;black&quot;, &quot;markerColor&quot;: &quot;blue&quot;, &quot;prefix&quot;: &quot;fa&quot;}\n",
       "            );\n",
       "            marker_21de5853b037fc07484f7cc72a9450cb.setIcon(icon_bd456f2dadc9a67bd0528767b3f0a362);\n",
       "        \n",
       "    \n",
       "            marker_21de5853b037fc07484f7cc72a9450cb.bindTooltip(\n",
       "                `&lt;div&gt;\n",
       "                     Old School\n",
       "                 &lt;/div&gt;`,\n",
       "                {&quot;sticky&quot;: true}\n",
       "            );\n",
       "        \n",
       "    \n",
       "            var marker_20df9f9a4aca5b2247d52e35d96a5efb = L.marker(\n",
       "                [41.413524, 2.19293],\n",
       "                {}\n",
       "            ).addTo(map_8f65d50679f579ec9da6ef3a983e3c2a);\n",
       "        \n",
       "    \n",
       "            var icon_3ca11d4c9fec4dda620ca8e3575274c0 = L.AwesomeMarkers.icon(\n",
       "                {&quot;extraClasses&quot;: &quot;fa-rotate-0&quot;, &quot;icon&quot;: &quot;graduation-cap&quot;, &quot;iconColor&quot;: &quot;black&quot;, &quot;markerColor&quot;: &quot;blue&quot;, &quot;prefix&quot;: &quot;fa&quot;}\n",
       "            );\n",
       "            marker_20df9f9a4aca5b2247d52e35d96a5efb.setIcon(icon_3ca11d4c9fec4dda620ca8e3575274c0);\n",
       "        \n",
       "    \n",
       "            marker_20df9f9a4aca5b2247d52e35d96a5efb.bindTooltip(\n",
       "                `&lt;div&gt;\n",
       "                     Chisholm School\n",
       "                 &lt;/div&gt;`,\n",
       "                {&quot;sticky&quot;: true}\n",
       "            );\n",
       "        \n",
       "    \n",
       "            var marker_a538324131585a40ad6809735ecaef1d = L.marker(\n",
       "                [41.409505, 2.185992],\n",
       "                {}\n",
       "            ).addTo(map_8f65d50679f579ec9da6ef3a983e3c2a);\n",
       "        \n",
       "    \n",
       "            var icon_05d0967947ec2a0e6b7b79c731e08d64 = L.AwesomeMarkers.icon(\n",
       "                {&quot;extraClasses&quot;: &quot;fa-rotate-0&quot;, &quot;icon&quot;: &quot;graduation-cap&quot;, &quot;iconColor&quot;: &quot;black&quot;, &quot;markerColor&quot;: &quot;blue&quot;, &quot;prefix&quot;: &quot;fa&quot;}\n",
       "            );\n",
       "            marker_a538324131585a40ad6809735ecaef1d.setIcon(icon_05d0967947ec2a0e6b7b79c731e08d64);\n",
       "        \n",
       "    \n",
       "            marker_a538324131585a40ad6809735ecaef1d.bindTooltip(\n",
       "                `&lt;div&gt;\n",
       "                     Today School\n",
       "                 &lt;/div&gt;`,\n",
       "                {&quot;sticky&quot;: true}\n",
       "            );\n",
       "        \n",
       "    \n",
       "            var marker_1b2563b9eda68505b6f6bc9eaaf9b789 = L.marker(\n",
       "                [41.40129, 2.202319],\n",
       "                {}\n",
       "            ).addTo(map_8f65d50679f579ec9da6ef3a983e3c2a);\n",
       "        \n",
       "    \n",
       "            var icon_94cb47392bf04acd8585729fa848dc47 = L.AwesomeMarkers.icon(\n",
       "                {&quot;extraClasses&quot;: &quot;fa-rotate-0&quot;, &quot;icon&quot;: &quot;graduation-cap&quot;, &quot;iconColor&quot;: &quot;black&quot;, &quot;markerColor&quot;: &quot;blue&quot;, &quot;prefix&quot;: &quot;fa&quot;}\n",
       "            );\n",
       "            marker_1b2563b9eda68505b6f6bc9eaaf9b789.setIcon(icon_94cb47392bf04acd8585729fa848dc47);\n",
       "        \n",
       "    \n",
       "            marker_1b2563b9eda68505b6f6bc9eaaf9b789.bindTooltip(\n",
       "                `&lt;div&gt;\n",
       "                     Urban School\n",
       "                 &lt;/div&gt;`,\n",
       "                {&quot;sticky&quot;: true}\n",
       "            );\n",
       "        \n",
       "    \n",
       "            var marker_99582aa3d2a4b8b2f69669af48678516 = L.marker(\n",
       "                [41.399275, 2.197754],\n",
       "                {}\n",
       "            ).addTo(map_8f65d50679f579ec9da6ef3a983e3c2a);\n",
       "        \n",
       "    \n",
       "            var icon_9214630e43c05180300e6fc66646a6ef = L.AwesomeMarkers.icon(\n",
       "                {&quot;extraClasses&quot;: &quot;fa-rotate-0&quot;, &quot;icon&quot;: &quot;graduation-cap&quot;, &quot;iconColor&quot;: &quot;black&quot;, &quot;markerColor&quot;: &quot;blue&quot;, &quot;prefix&quot;: &quot;fa&quot;}\n",
       "            );\n",
       "            marker_99582aa3d2a4b8b2f69669af48678516.setIcon(icon_9214630e43c05180300e6fc66646a6ef);\n",
       "        \n",
       "    \n",
       "            marker_99582aa3d2a4b8b2f69669af48678516.bindTooltip(\n",
       "                `&lt;div&gt;\n",
       "                     Fashion Group Bcn School\n",
       "                 &lt;/div&gt;`,\n",
       "                {&quot;sticky&quot;: true}\n",
       "            );\n",
       "        \n",
       "    \n",
       "            var marker_7fac668668f2ffe9b04542535c96f41a = L.marker(\n",
       "                [41.414447, 2.194152],\n",
       "                {}\n",
       "            ).addTo(map_8f65d50679f579ec9da6ef3a983e3c2a);\n",
       "        \n",
       "    \n",
       "            var icon_d70cb775f72f915e2a1e580d19f00966 = L.AwesomeMarkers.icon(\n",
       "                {&quot;extraClasses&quot;: &quot;fa-rotate-0&quot;, &quot;icon&quot;: &quot;graduation-cap&quot;, &quot;iconColor&quot;: &quot;black&quot;, &quot;markerColor&quot;: &quot;blue&quot;, &quot;prefix&quot;: &quot;fa&quot;}\n",
       "            );\n",
       "            marker_7fac668668f2ffe9b04542535c96f41a.setIcon(icon_d70cb775f72f915e2a1e580d19f00966);\n",
       "        \n",
       "    \n",
       "            marker_7fac668668f2ffe9b04542535c96f41a.bindTooltip(\n",
       "                `&lt;div&gt;\n",
       "                     Complex Esportiu Municipal Bac de Roda\n",
       "                 &lt;/div&gt;`,\n",
       "                {&quot;sticky&quot;: true}\n",
       "            );\n",
       "        \n",
       "    \n",
       "            var marker_ec4722752347b1283d1e9af215f4b177 = L.marker(\n",
       "                [41.401412, 2.204491],\n",
       "                {}\n",
       "            ).addTo(map_8f65d50679f579ec9da6ef3a983e3c2a);\n",
       "        \n",
       "    \n",
       "            var icon_4025466e8737e947dfded6c5db7ee175 = L.AwesomeMarkers.icon(\n",
       "                {&quot;extraClasses&quot;: &quot;fa-rotate-0&quot;, &quot;icon&quot;: &quot;graduation-cap&quot;, &quot;iconColor&quot;: &quot;black&quot;, &quot;markerColor&quot;: &quot;blue&quot;, &quot;prefix&quot;: &quot;fa&quot;}\n",
       "            );\n",
       "            marker_ec4722752347b1283d1e9af215f4b177.setIcon(icon_4025466e8737e947dfded6c5db7ee175);\n",
       "        \n",
       "    \n",
       "            marker_ec4722752347b1283d1e9af215f4b177.bindTooltip(\n",
       "                `&lt;div&gt;\n",
       "                     Biblioteca Poblenou-Manuel Arranz\n",
       "                 &lt;/div&gt;`,\n",
       "                {&quot;sticky&quot;: true}\n",
       "            );\n",
       "        \n",
       "&lt;/script&gt;\n",
       "&lt;/html&gt;\" style=\"position:absolute;width:100%;height:100%;left:0;top:0;border:none !important;\" allowfullscreen webkitallowfullscreen mozallowfullscreen></iframe></div></div>"
      ],
      "text/plain": [
       "<folium.folium.Map at 0x168bea73910>"
      ]
     },
     "execution_count": 23,
     "metadata": {},
     "output_type": "execute_result"
    }
   ],
   "source": [
    "test_map"
   ]
  },
  {
   "cell_type": "markdown",
   "metadata": {},
   "source": [
    "# Como enviar o json extraido da api para meu mongo"
   ]
  },
  {
   "cell_type": "code",
   "execution_count": 21,
   "metadata": {},
   "outputs": [],
   "source": [
    "def export_to_mongodb(data, col):\n",
    "    # Conectar ao MongoDB (certifique-se de ter o servidor MongoDB em execução)\n",
    "    client = MongoClient(\"localhost\", 27017)\n",
    "\n",
    "    # Escolher ou criar um banco de dados e uma coleção no MongoDB\n",
    "    db = client[\"Project-Spot\"]\n",
    "    collection = db[col]\n",
    "\n",
    "    # Inserir os dados no MongoDB\n",
    "    result = collection.insert_one(data)\n",
    "\n",
    "    # Imprimir o ID do documento inserido\n",
    "    print(f\"Documento inserido com ID: {result.inserted_id}\")\n",
    "\n",
    "    return result"
   ]
  },
  {
   "cell_type": "code",
   "execution_count": 22,
   "metadata": {},
   "outputs": [
    {
     "ename": "NameError",
     "evalue": "name 'api_data' is not defined",
     "output_type": "error",
     "traceback": [
      "\u001b[1;31m---------------------------------------------------------------------------\u001b[0m",
      "\u001b[1;31mNameError\u001b[0m                                 Traceback (most recent call last)",
      "Cell \u001b[1;32mIn[22], line 2\u001b[0m\n\u001b[0;32m      1\u001b[0m \u001b[38;5;66;03m# Enviar dados extraídos para o MongoDB\u001b[39;00m\n\u001b[1;32m----> 2\u001b[0m export_to_mongodb(\u001b[43mapi_data\u001b[49m, \u001b[38;5;124m'\u001b[39m\u001b[38;5;124mcoffe shop\u001b[39m\u001b[38;5;124m'\u001b[39m)\n",
      "\u001b[1;31mNameError\u001b[0m: name 'api_data' is not defined"
     ]
    }
   ],
   "source": [
    "# Enviar dados extraídos para o MongoDB\n",
    "export_to_mongodb(api_data, 'coffe shop')"
   ]
  },
  {
   "cell_type": "code",
   "execution_count": null,
   "metadata": {},
   "outputs": [
    {
     "name": "stdout",
     "output_type": "stream",
     "text": [
      " coordinates: 41.384965, 2.164582\n",
      " coordinates: 41.384965, 2.164582\n",
      " coordinates: 41.381567, 2.159095\n",
      " coordinates: 41.381567, 2.159095\n",
      " coordinates: 41.398077, 2.162116\n",
      " coordinates: 41.398077, 2.162116\n",
      " coordinates: 41.400852, 2.17776\n",
      " coordinates: 41.400852, 2.17776\n",
      " coordinates: 41.376394, 2.160389\n",
      " coordinates: 41.376394, 2.160389\n",
      " coordinates: 41.373088, 2.174453\n",
      " coordinates: 41.373088, 2.174453\n",
      " coordinates: 41.402755, 2.183019\n",
      " coordinates: 41.402755, 2.183019\n",
      " coordinates: 41.391011, 2.147691\n",
      " coordinates: 41.391011, 2.147691\n",
      " coordinates: 41.40671, 2.155362\n",
      " coordinates: 41.407049, 2.155141\n",
      " coordinates: 41.407049, 2.155141\n",
      " coordinates: 41.39396, 2.202743\n",
      " coordinates: 41.39396, 2.202743\n"
     ]
    }
   ],
   "source": [
    "# verificar coordenadas\n",
    "for result in api_data['results']:\n",
    "    geocodes = result.get('geocodes', {})  # Get the 'geocodes' dictionary, default to an empty dictionary if not present\n",
    "    for key, coordinates in geocodes.items():\n",
    "        print(f\" coordinates: {coordinates['latitude']}, {coordinates['longitude']}\")\n",
    "\n",
    "\n"
   ]
  }
 ],
 "metadata": {
  "kernelspec": {
   "display_name": "Python 3",
   "language": "python",
   "name": "python3"
  },
  "language_info": {
   "codemirror_mode": {
    "name": "ipython",
    "version": 3
   },
   "file_extension": ".py",
   "mimetype": "text/x-python",
   "name": "python",
   "nbconvert_exporter": "python",
   "pygments_lexer": "ipython3",
   "version": "3.11.3"
  }
 },
 "nbformat": 4,
 "nbformat_minor": 2
}
