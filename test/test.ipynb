{
 "cells": [
  {
   "cell_type": "markdown",
   "metadata": {},
   "source": [
    "# Teste do projeto spot\n",
    "    - pegar o token\n",
    "    - extrair os dados da api\n",
    "    - criar funcoes para extrair os dados da API\n",
    "    - cria funcao para exportar para mongo"
   ]
  },
  {
   "cell_type": "markdown",
   "metadata": {},
   "source": [
    "# URL's\n",
    "\n",
    "    # query = barcelona\n",
    "        # - 'https://api.foursquare.com/v3/places/search?query=barcelona' \n",
    "    # query = caffe - near = barcelona\n",
    "        - 'https://api.foursquare.com/v3/places/search?query=coffee&near=barcelona' \n",
    "    # query = caffe / categories = 11124 Business and Professional Services > Office / near = barcelona\n",
    "        - 'https://api.foursquare.com/v3/places/search?query=coffee&categories=11124&near=barcelona'     \n",
    "    # categories = 11124 Business and Professional Services > Office / near = barcelona\n",
    "        - 'https://api.foursquare.com/v3/places/search?categories=11124&near=barcelona'\n",
    "    # near = barcelona\n",
    "        - 'https://api.foursquare.com/v3/places/search?near=barcelona'\n",
    "    # 12057\tCommunity and Government > Education > Primary and Secondary School\n",
    "        - https://api.foursquare.com/v3/places/search?query=escola&categories=12057&near=barcelona    \n",
    "    # 12059\tCommunity and Government > Education > Primary and Secondary School > High School (Tem perto do trablho)\n",
    "    - https://api.foursquare.com/v3/places/search?query=escola&categories=12059&near=barcelona\n"
   ]
  },
  {
   "cell_type": "markdown",
   "metadata": {},
   "source": [
    "# Livrarias"
   ]
  },
  {
   "cell_type": "code",
   "execution_count": 1,
   "metadata": {},
   "outputs": [],
   "source": [
    "import requests\n",
    "import json\n",
    "import geopandas\n",
    "import cartoframes\n",
    "import folium\n",
    "import pandas as pd\n",
    "import getpass\n",
    "from pymongo import MongoClient\n",
    "from dotenv import load_dotenv\n",
    "from bson import json_util\n",
    "from folium import Choropleth, Circle, Marker, Icon, Map\n",
    "from folium.plugins import HeatMap, MarkerCluster"
   ]
  },
  {
   "cell_type": "markdown",
   "metadata": {},
   "source": [
    "# API FourSquare "
   ]
  },
  {
   "cell_type": "markdown",
   "metadata": {},
   "source": [
    "# Token"
   ]
  },
  {
   "cell_type": "code",
   "execution_count": 2,
   "metadata": {},
   "outputs": [
    {
     "data": {
      "text/plain": [
       "True"
      ]
     },
     "execution_count": 2,
     "metadata": {},
     "output_type": "execute_result"
    }
   ],
   "source": [
    "load_dotenv()"
   ]
  },
  {
   "cell_type": "code",
   "execution_count": 3,
   "metadata": {},
   "outputs": [],
   "source": [
    "token = getpass.getpass(\"token: \")\n"
   ]
  },
  {
   "cell_type": "markdown",
   "metadata": {},
   "source": [
    "# Funcao Query"
   ]
  },
  {
   "cell_type": "code",
   "execution_count": 4,
   "metadata": {},
   "outputs": [],
   "source": [
    "def extrator_category_near(cate, near):\n",
    "    url = \"https://api.foursquare.com/v3/places/search\"\n",
    "    params = {\n",
    "        \"category\": f'{cate}',\n",
    "        'near': f'{near}'\n",
    "        }\n",
    "    headers = {\n",
    "        \"Accept\": \"application/json\",\n",
    "        \"Authorization\": token\n",
    "    }\n",
    "    response = requests.request(\"GET\", url, params=params, headers=headers).json()\n",
    "    return response"
   ]
  },
  {
   "cell_type": "markdown",
   "metadata": {},
   "source": [
    "# Funcao Query LAT, LONG"
   ]
  },
  {
   "cell_type": "code",
   "execution_count": 5,
   "metadata": {},
   "outputs": [],
   "source": [
    "def extrator_query_ll(query,lat, long):\n",
    "    url = \"https://api.foursquare.com/v3/places/search\"\n",
    "    params = {\n",
    "        \"query\": query,\n",
    "        'll': f'{lat},{long}',\n",
    "        \"sort\":\"DISTANCE\"\n",
    "        }\n",
    "    headers = {\n",
    "        \"Accept\": \"application/json\",\n",
    "        \"Authorization\": token\n",
    "    }\n",
    "    response = requests.request(\"GET\", url, params=params, headers=headers).json()\n",
    "    return response"
   ]
  },
  {
   "cell_type": "markdown",
   "metadata": {},
   "source": [
    "# Funcao Categoria, lat, long"
   ]
  },
  {
   "cell_type": "code",
   "execution_count": 6,
   "metadata": {},
   "outputs": [],
   "source": [
    "def extrator_ll_category(cate,lat, long):\n",
    "    \n",
    "    url = \"https://api.foursquare.com/v3/places/search\"\n",
    "\n",
    "    params = {\n",
    "        'll': f'{lat},{long}',\n",
    "        'category': f'{cate}',\n",
    "        \"sort\":\"DISTANCE\"\n",
    "    }\n",
    "    headers = {\n",
    "        \"Accept\": \"application/json\",\n",
    "        \"Authorization\": token\n",
    "    }\n",
    "\n",
    "    response = requests.request(\"GET\", url, params=params, headers=headers).json()\n",
    "    return response"
   ]
  },
  {
   "cell_type": "code",
   "execution_count": 7,
   "metadata": {},
   "outputs": [],
   "source": [
    "def extrator_query_near_category(query, near, cate):\n",
    "    url = \"https://api.foursquare.com/v3/places/search\"\n",
    "    params = {\n",
    "        \"query\": query,\n",
    "        'near': f'{near}',\n",
    "        'category': f'{cate}',\n",
    "        \"sort\":\"DISTANCE\"\n",
    "        }\n",
    "    headers = {\n",
    "        \"Accept\": \"application/json\",\n",
    "        \"Authorization\": token\n",
    "    }\n",
    "    response = requests.request(\"GET\", url, params=params, headers=headers).json()\n",
    "    return response"
   ]
  },
  {
   "cell_type": "code",
   "execution_count": 8,
   "metadata": {},
   "outputs": [],
   "source": [
    "test_extrator_query_near_category = extrator_query_near_category('school', 'Barcelona', '12057')"
   ]
  },
  {
   "cell_type": "code",
   "execution_count": 9,
   "metadata": {},
   "outputs": [],
   "source": [
    "test_extrator_category_near = extrator_category_near('12057', 'Barcelona')"
   ]
  },
  {
   "cell_type": "code",
   "execution_count": 10,
   "metadata": {},
   "outputs": [],
   "source": [
    "test_extrator_query_ll = extrator_query_ll('school', '41.4069929','2.1951855')"
   ]
  },
  {
   "cell_type": "code",
   "execution_count": 11,
   "metadata": {},
   "outputs": [],
   "source": [
    "test_extrator_ll_category = extrator_ll_category('12057','41.4057403','2.189718')"
   ]
  },
  {
   "cell_type": "code",
   "execution_count": 12,
   "metadata": {},
   "outputs": [
    {
     "name": "stdout",
     "output_type": "stream",
     "text": [
      "Name: Button School - Address: Passatge de Mas de Roda, 14, 08005 Barcelona Catalunya - Latitude: 41.388587, Longitude: 2.158134\n",
      "Name: Global Business School Barcelona - Address: Aragon, 208 (Aribau), 08011 Barcelona Catalunya - Latitude: 41.387934, Longitude: 2.15921\n",
      "Name: Global Business School Barcelona - Address: Carrer D'Aragó, 208, 08011 Barcelona Barcelona - Latitude: 41.387629, Longitude: 2.159155\n",
      "Name: Global Business School Barcelona - Address: Carrer D'Aragó, 179, 08011 Barcelona Barcelona - Latitude: 41.387155, Longitude: 2.157936\n",
      "Name: Barcelona Business School - Address: Calle Valencia, 158, 08011 Barcelona Barcelona - Latitude: 41.386466, Longitude: 2.155026\n",
      "Name: Barcelona 3d School - Address: Rambla Catalunya, 53, 08007 Barcelona Barcelona - Latitude: 41.390509, Longitude: 2.163853\n",
      "Name: FX Animation Barcelona 3D School - Address: Pelai, 11, 08001 Barcelona Catalunya - Latitude: 41.390509, Longitude: 2.163853\n",
      "Name: Virtual Drummer School - Address: Calle Rosellón, 188, 08008 Barcelona Barcelona - Latitude: 41.39268, Longitude: 2.156745\n",
      "Name: UPF Barcelona School of Management - Address: Balmes 132-134 (C. Rosselló), 08008 Barcelona Catalunya - Latitude: 41.393643, Longitude: 2.157157\n",
      "Name: Speakeasy Barcelona - Address: Ronda Universitat, 7, 08007 Barcelona Catalunya - Latitude: 41.38638, Longitude: 2.165375\n"
     ]
    }
   ],
   "source": [
    "for result in test_extrator_query_near_category['results']:\n",
    "    name = result['name']\n",
    "    address = result['location']['formatted_address']\n",
    "    latitude = result['geocodes']['main']['latitude']\n",
    "    longitude = result['geocodes']['main']['longitude']\n",
    "    print(f\"Name: {name} - Address: {address} - Latitude: {latitude}, Longitude: {longitude}\")"
   ]
  },
  {
   "cell_type": "code",
   "execution_count": 13,
   "metadata": {},
   "outputs": [
    {
     "name": "stdout",
     "output_type": "stream",
     "text": [
      "Name: Roast Club - Address: Carrer de València, 190 (C. de València), 08011 Barcelona Catalunya - Latitude: 41.387825, Longitude: 2.157221\n",
      "Name: La Central - Address: Calle Mallorca, 237 (C. de Balmes), 08008 Barcelona Catalunya - Latitude: 41.392076, Longitude: 2.159978\n",
      "Name: Honest Greens Rambla Catalunya - Address: Rambla Catalunya, 3, 08007 Barcelona Catalunya - Latitude: 41.387526, Longitude: 2.167989\n",
      "Name: Parking Pizza - Address: Calle Londres, 98, 08036 Barcelona Catalunya - Latitude: 41.393794, Longitude: 2.151435\n",
      "Name: Senyor Vermut - Address: Provença, 85, 08029 Barcelona Catalunya - Latitude: 41.385903, Longitude: 2.149395\n",
      "Name: La Central del Raval - Address: Carrer D'Elisabets, 6, 08001 Barcelona Catalunya - Latitude: 41.383572, Longitude: 2.168847\n",
      "Name: Bodega Armando - Address: Calle Bisbe Laguarda, 3, 08001 Barcelona Catalunya - Latitude: 41.3799, Longitude: 2.164802\n",
      "Name: The Egg Lab - Address: Carrer de Sepúlveda, 80, 08015 Barcelona Catalunya - Latitude: 41.378512, Longitude: 2.156292\n",
      "Name: Oggi Gelato - Address: Carrer Comtal, 15, 08002 Barcelona Catalunya - Latitude: 41.386594, Longitude: 2.173392\n",
      "Name: Funky Bakers - Address: Carrer de la Diputació, 347, 08009 Barcelona Catalunya - Latitude: 41.394916, Longitude: 2.172866\n"
     ]
    }
   ],
   "source": [
    "for result in test_extrator_category_near['results']:\n",
    "    name = result['name']\n",
    "    address = result['location']['formatted_address']\n",
    "    latitude = result['geocodes']['main']['latitude']\n",
    "    longitude = result['geocodes']['main']['longitude']\n",
    "    print(f\"Name: {name} - Address: {address} - Latitude: {latitude}, Longitude: {longitude}\")"
   ]
  },
  {
   "cell_type": "code",
   "execution_count": 14,
   "metadata": {},
   "outputs": [
    {
     "name": "stdout",
     "output_type": "stream",
     "text": [
      "Name: Foxize School - Address: Llacuna, 162, 08018 Barcelona Catalunya - Latitude: 41.406352, Longitude: 2.192229\n",
      "Name: Pepe School Land - Address: Passatge Pere Ripoll, 5 (Rambla del Poble Nou con Pere IV), 08005 Barcelona Catalunya - Latitude: 41.403333, Longitude: 2.198838\n",
      "Name: Old School Bakery Cafe - Address: Bilbao, 216 (Aragó), 08018 Barcelona Catalunya - Latitude: 41.411034, Longitude: 2.191441\n",
      "Name: Old School - Address: Carrer de Bilbao, 216 (carrer de Aragó), 08018 Barcelona Catalunya - Latitude: 41.411682, Longitude: 2.19192\n",
      "Name: Chisholm School - Address: Rambla Guipuscoa, 11, 08018 Barcelona Catalunya - Latitude: 41.413524, Longitude: 2.19293\n",
      "Name: Today School - Address: Calle Valencia, 610, 08026 Barcelona Catalunya - Latitude: 41.409505, Longitude: 2.185992\n",
      "Name: Urban School - Address: Llull, 187, 08005 Barcelona Catalunya - Latitude: 41.40129, Longitude: 2.202319\n",
      "Name: Fashion Group Bcn School - Address: Pujades, 142, 08005 Barcelona Catalunya - Latitude: 41.399275, Longitude: 2.197754\n",
      "Name: Complex Esportiu Municipal Bac de Roda - Address: Rambla Guipúscoa, 25 (Bac de Roda), 08018 Barcelona Catalunya - Latitude: 41.414447, Longitude: 2.194152\n",
      "Name: Biblioteca Poblenou-Manuel Arranz - Address: Joncar, 35, 08005 Barcelona Catalunya - Latitude: 41.401412, Longitude: 2.204491\n"
     ]
    }
   ],
   "source": [
    "for result in test_extrator_query_ll['results']:\n",
    "    name = result['name']\n",
    "    address = result['location']['formatted_address']\n",
    "    latitude = result['geocodes']['main']['latitude']\n",
    "    longitude = result['geocodes']['main']['longitude']\n",
    "    print(f\"Name: {name} - Address: {address} - Latitude: {latitude}, Longitude: {longitude}\")"
   ]
  },
  {
   "cell_type": "code",
   "execution_count": 15,
   "metadata": {},
   "outputs": [
    {
     "name": "stdout",
     "output_type": "stream",
     "text": [
      "Name: Little Fern - Address: Calle Pere IV, 168 (C. Llacuna), 08005 Barcelona Catalunya - Latitude: 41.402328, Longitude: 2.197571\n",
      "Name: La Tavernícola - Address: Roc Boronat, 70 (Calle De Pujades), 08005 Barcelona Catalunya - Latitude: 41.400358, Longitude: 2.197944\n",
      "Name: Three Marks Coffee - Address: Calle D'Ausiàs Marc, 151, 08013 Barcelona Catalunya - Latitude: 41.397168, Longitude: 2.183123\n",
      "Name: Can Dendê - Address: Ciutat de Granada, 44 (C. de Llull), 08005 Barcelona Catalunya - Latitude: 41.39836, Longitude: 2.198345\n",
      "Name: Dino's Ice Cream - Address: Rambla Poble Nou, 59 (Llul), 08005 Barcelona Catalunya - Latitude: 41.40091, Longitude: 2.201478\n",
      "Name: Plaça de Gaudí - Address: 08013 Barcelona Catalunya - Latitude: 41.404427, Longitude: 2.175549\n",
      "Name: Nativity Towers (Torres Naixement) - Address: Calle de Mallorca, 401, Barcelona Catalunya - Latitude: 41.403879, Longitude: 2.17468\n",
      "Name: The Basilica of the Sagrada Familia (Temple Expiatori de la Sagrada Família) - Address: Carrer de Mallorca, 401 (C. de Sardenya), 08013 Barcelona Catalunya - Latitude: 41.403458, Longitude: 2.174397\n",
      "Name: Museu Basilica de la Sagrada Familia - Address: Calle de Mallorca, 401, 08013 Barcelona Catalunya - Latitude: 41.403077, Longitude: 2.174142\n",
      "Name: Cripta de la Sagrada Família - Address: Calle de Mallorca, 401, Barcelona Catalunya - Latitude: 41.40317, Longitude: 2.173979\n"
     ]
    }
   ],
   "source": [
    "for result in test_extrator_ll_category['results']:\n",
    "    name = result['name']\n",
    "    address = result['location']['formatted_address']\n",
    "    latitude = result['geocodes']['main']['latitude']\n",
    "    longitude = result['geocodes']['main']['longitude']\n",
    "    print(f\"Name: {name} - Address: {address} - Latitude: {latitude}, Longitude: {longitude}\")"
   ]
  },
  {
   "cell_type": "code",
   "execution_count": 16,
   "metadata": {},
   "outputs": [],
   "source": [
    "def locals(data, cate):\n",
    "    list_local = []\n",
    "    df = pd.DataFrame(columns = ['Category','Name', 'Address', 'Latitude', 'Longitude'])\n",
    "    for result in data['results']:\n",
    "        local = {}\n",
    "        local['Category'] = cate\n",
    "        local['Name'] = result['name']\n",
    "        local['Address'] = result['location']['formatted_address'] \n",
    "        local['Latitude'] = result['geocodes']['main']['latitude']\n",
    "        local['Longitude'] = result['geocodes']['main']['longitude']\n",
    "        list_local.append(local)\n",
    "    df = pd.DataFrame(list_local)\n",
    "    return df    \n",
    "        "
   ]
  },
  {
   "cell_type": "code",
   "execution_count": 17,
   "metadata": {},
   "outputs": [
    {
     "data": {
      "text/html": [
       "<div>\n",
       "<style scoped>\n",
       "    .dataframe tbody tr th:only-of-type {\n",
       "        vertical-align: middle;\n",
       "    }\n",
       "\n",
       "    .dataframe tbody tr th {\n",
       "        vertical-align: top;\n",
       "    }\n",
       "\n",
       "    .dataframe thead th {\n",
       "        text-align: right;\n",
       "    }\n",
       "</style>\n",
       "<table border=\"1\" class=\"dataframe\">\n",
       "  <thead>\n",
       "    <tr style=\"text-align: right;\">\n",
       "      <th></th>\n",
       "      <th>Category</th>\n",
       "      <th>Name</th>\n",
       "      <th>Address</th>\n",
       "      <th>Latitude</th>\n",
       "      <th>Longitude</th>\n",
       "    </tr>\n",
       "  </thead>\n",
       "  <tbody>\n",
       "    <tr>\n",
       "      <th>0</th>\n",
       "      <td>School</td>\n",
       "      <td>Foxize School</td>\n",
       "      <td>Llacuna, 162, 08018 Barcelona Catalunya</td>\n",
       "      <td>41.406352</td>\n",
       "      <td>2.192229</td>\n",
       "    </tr>\n",
       "    <tr>\n",
       "      <th>1</th>\n",
       "      <td>School</td>\n",
       "      <td>Pepe School Land</td>\n",
       "      <td>Passatge Pere Ripoll, 5 (Rambla del Poble Nou ...</td>\n",
       "      <td>41.403333</td>\n",
       "      <td>2.198838</td>\n",
       "    </tr>\n",
       "    <tr>\n",
       "      <th>2</th>\n",
       "      <td>School</td>\n",
       "      <td>Old School Bakery Cafe</td>\n",
       "      <td>Bilbao, 216 (Aragó), 08018 Barcelona Catalunya</td>\n",
       "      <td>41.411034</td>\n",
       "      <td>2.191441</td>\n",
       "    </tr>\n",
       "    <tr>\n",
       "      <th>3</th>\n",
       "      <td>School</td>\n",
       "      <td>Old School</td>\n",
       "      <td>Carrer de Bilbao, 216 (carrer de Aragó), 08018...</td>\n",
       "      <td>41.411682</td>\n",
       "      <td>2.191920</td>\n",
       "    </tr>\n",
       "    <tr>\n",
       "      <th>4</th>\n",
       "      <td>School</td>\n",
       "      <td>Chisholm School</td>\n",
       "      <td>Rambla Guipuscoa, 11, 08018 Barcelona Catalunya</td>\n",
       "      <td>41.413524</td>\n",
       "      <td>2.192930</td>\n",
       "    </tr>\n",
       "    <tr>\n",
       "      <th>5</th>\n",
       "      <td>School</td>\n",
       "      <td>Today School</td>\n",
       "      <td>Calle Valencia, 610, 08026 Barcelona Catalunya</td>\n",
       "      <td>41.409505</td>\n",
       "      <td>2.185992</td>\n",
       "    </tr>\n",
       "    <tr>\n",
       "      <th>6</th>\n",
       "      <td>School</td>\n",
       "      <td>Urban School</td>\n",
       "      <td>Llull, 187, 08005 Barcelona Catalunya</td>\n",
       "      <td>41.401290</td>\n",
       "      <td>2.202319</td>\n",
       "    </tr>\n",
       "    <tr>\n",
       "      <th>7</th>\n",
       "      <td>School</td>\n",
       "      <td>Fashion Group Bcn School</td>\n",
       "      <td>Pujades, 142, 08005 Barcelona Catalunya</td>\n",
       "      <td>41.399275</td>\n",
       "      <td>2.197754</td>\n",
       "    </tr>\n",
       "    <tr>\n",
       "      <th>8</th>\n",
       "      <td>School</td>\n",
       "      <td>Complex Esportiu Municipal Bac de Roda</td>\n",
       "      <td>Rambla Guipúscoa, 25 (Bac de Roda), 08018 Barc...</td>\n",
       "      <td>41.414447</td>\n",
       "      <td>2.194152</td>\n",
       "    </tr>\n",
       "    <tr>\n",
       "      <th>9</th>\n",
       "      <td>School</td>\n",
       "      <td>Biblioteca Poblenou-Manuel Arranz</td>\n",
       "      <td>Joncar, 35, 08005 Barcelona Catalunya</td>\n",
       "      <td>41.401412</td>\n",
       "      <td>2.204491</td>\n",
       "    </tr>\n",
       "  </tbody>\n",
       "</table>\n",
       "</div>"
      ],
      "text/plain": [
       "  Category                                    Name  \\\n",
       "0   School                           Foxize School   \n",
       "1   School                        Pepe School Land   \n",
       "2   School                  Old School Bakery Cafe   \n",
       "3   School                              Old School   \n",
       "4   School                         Chisholm School   \n",
       "5   School                            Today School   \n",
       "6   School                            Urban School   \n",
       "7   School                Fashion Group Bcn School   \n",
       "8   School  Complex Esportiu Municipal Bac de Roda   \n",
       "9   School       Biblioteca Poblenou-Manuel Arranz   \n",
       "\n",
       "                                             Address   Latitude  Longitude  \n",
       "0            Llacuna, 162, 08018 Barcelona Catalunya  41.406352   2.192229  \n",
       "1  Passatge Pere Ripoll, 5 (Rambla del Poble Nou ...  41.403333   2.198838  \n",
       "2     Bilbao, 216 (Aragó), 08018 Barcelona Catalunya  41.411034   2.191441  \n",
       "3  Carrer de Bilbao, 216 (carrer de Aragó), 08018...  41.411682   2.191920  \n",
       "4    Rambla Guipuscoa, 11, 08018 Barcelona Catalunya  41.413524   2.192930  \n",
       "5     Calle Valencia, 610, 08026 Barcelona Catalunya  41.409505   2.185992  \n",
       "6              Llull, 187, 08005 Barcelona Catalunya  41.401290   2.202319  \n",
       "7            Pujades, 142, 08005 Barcelona Catalunya  41.399275   2.197754  \n",
       "8  Rambla Guipúscoa, 25 (Bac de Roda), 08018 Barc...  41.414447   2.194152  \n",
       "9              Joncar, 35, 08005 Barcelona Catalunya  41.401412   2.204491  "
      ]
     },
     "execution_count": 17,
     "metadata": {},
     "output_type": "execute_result"
    }
   ],
   "source": [
    "result_test_extrator_query_ll = locals(test_extrator_query_ll, 'School')\n",
    "result_test_extrator_query_ll"
   ]
  },
  {
   "cell_type": "code",
   "execution_count": 18,
   "metadata": {},
   "outputs": [],
   "source": [
    "test_map = Map(location=['41.4046268','2.1893276'], zoom_start=15)"
   ]
  },
  {
   "cell_type": "code",
   "execution_count": 19,
   "metadata": {},
   "outputs": [],
   "source": [
    "def map_maker(data):\n",
    "    for i, r in data.iterrows():\n",
    "        name = r['Name']\n",
    "        lat = r['Latitude']\n",
    "        long = r['Longitude']\n",
    "        color = 'blue'\n",
    "        icon_color = 'black'\n",
    "        icon = 'graduation-cap'\n",
    "        icon = Icon(\n",
    "                    color = color,\n",
    "                    icon_color = icon_color,\n",
    "                    icon = icon,\n",
    "                    prefix=\"fa\" # font-awesome website: fa\n",
    "            )\n",
    "        test_marker = Marker(location=[lat, long], tooltip=name, icon= icon)\n",
    "        test_marker.add_to(test_map)\n",
    "    return test_map"
   ]
  },
  {
   "cell_type": "code",
   "execution_count": 20,
   "metadata": {},
   "outputs": [],
   "source": [
    "school_test = map_maker(result_test_extrator_query_ll)\n"
   ]
  },
  {
   "cell_type": "markdown",
   "metadata": {},
   "source": [
    "# Como enviar o json extraido da api para meu mongo"
   ]
  },
  {
   "cell_type": "code",
   "execution_count": 21,
   "metadata": {},
   "outputs": [],
   "source": [
    "def export_to_mongodb(data, col):\n",
    "    # Conectar ao MongoDB (certifique-se de ter o servidor MongoDB em execução)\n",
    "    client = MongoClient(\"localhost\", 27017)\n",
    "\n",
    "    # Escolher ou criar um banco de dados e uma coleção no MongoDB\n",
    "    db = client[\"Project-Spot\"]\n",
    "    collection = db[col]\n",
    "\n",
    "    # Inserir os dados no MongoDB\n",
    "    result = collection.insert_one(data)\n",
    "\n",
    "    # Imprimir o ID do documento inserido\n",
    "    print(f\"Documento inserido com ID: {result.inserted_id}\")\n",
    "\n",
    "    return result"
   ]
  },
  {
   "cell_type": "code",
   "execution_count": 22,
   "metadata": {},
   "outputs": [
    {
     "ename": "NameError",
     "evalue": "name 'api_data' is not defined",
     "output_type": "error",
     "traceback": [
      "\u001b[1;31m---------------------------------------------------------------------------\u001b[0m",
      "\u001b[1;31mNameError\u001b[0m                                 Traceback (most recent call last)",
      "Cell \u001b[1;32mIn[22], line 2\u001b[0m\n\u001b[0;32m      1\u001b[0m \u001b[38;5;66;03m# Enviar dados extraídos para o MongoDB\u001b[39;00m\n\u001b[1;32m----> 2\u001b[0m export_to_mongodb(\u001b[43mapi_data\u001b[49m, \u001b[38;5;124m'\u001b[39m\u001b[38;5;124mcoffe shop\u001b[39m\u001b[38;5;124m'\u001b[39m)\n",
      "\u001b[1;31mNameError\u001b[0m: name 'api_data' is not defined"
     ]
    }
   ],
   "source": [
    "# Enviar dados extraídos para o MongoDB\n",
    "export_to_mongodb(api_data, 'coffe shop')"
   ]
  },
  {
   "cell_type": "code",
   "execution_count": null,
   "metadata": {},
   "outputs": [
    {
     "name": "stdout",
     "output_type": "stream",
     "text": [
      " coordinates: 41.384965, 2.164582\n",
      " coordinates: 41.384965, 2.164582\n",
      " coordinates: 41.381567, 2.159095\n",
      " coordinates: 41.381567, 2.159095\n",
      " coordinates: 41.398077, 2.162116\n",
      " coordinates: 41.398077, 2.162116\n",
      " coordinates: 41.400852, 2.17776\n",
      " coordinates: 41.400852, 2.17776\n",
      " coordinates: 41.376394, 2.160389\n",
      " coordinates: 41.376394, 2.160389\n",
      " coordinates: 41.373088, 2.174453\n",
      " coordinates: 41.373088, 2.174453\n",
      " coordinates: 41.402755, 2.183019\n",
      " coordinates: 41.402755, 2.183019\n",
      " coordinates: 41.391011, 2.147691\n",
      " coordinates: 41.391011, 2.147691\n",
      " coordinates: 41.40671, 2.155362\n",
      " coordinates: 41.407049, 2.155141\n",
      " coordinates: 41.407049, 2.155141\n",
      " coordinates: 41.39396, 2.202743\n",
      " coordinates: 41.39396, 2.202743\n"
     ]
    }
   ],
   "source": [
    "# verificar coordenadas\n",
    "for result in api_data['results']:\n",
    "    geocodes = result.get('geocodes', {})  # Get the 'geocodes' dictionary, default to an empty dictionary if not present\n",
    "    for key, coordinates in geocodes.items():\n",
    "        print(f\" coordinates: {coordinates['latitude']}, {coordinates['longitude']}\")\n",
    "\n",
    "\n"
   ]
  },
  {
   "cell_type": "code",
   "execution_count": 1,
   "metadata": {},
   "outputs": [],
   "source": [
    "def create_layers(map_, list_dfs, names_dfs):\n",
    "    \n",
    "    layers = []  # List to store all layers\n",
    "    heatmap_data = []  # List to store data for heatmap\n",
    "    # Iterate over each DataFrame and its corresponding name\n",
    "    for df, df_name in zip(list_dfs, names_dfs):\n",
    "        layer = folium.FeatureGroup(name=f'{df_name}')  # Create a new layer for markers\n",
    "        for _, row in df.iterrows():\n",
    "            # Determine icon properties based on the DataFrame type\n",
    "            if df.equals(gaming_companies):\n",
    "                color = \"red\"\n",
    "                icon_color = \"white\"\n",
    "                icon = \"gamepad\"\n",
    "            elif df.equals(schools):\n",
    "                color = \"blue\"\n",
    "                icon_color = \"white\"\n",
    "                icon = \"school-flag\"\n",
    "            elif df.equals(starbucks):\n",
    "                color = \"green\"\n",
    "                icon_color = \"white\"\n",
    "                icon = \"mug-hot\"\n",
    "            elif df.equals(design_companies):\n",
    "                color = \"orange\"\n",
    "                icon_color = \"white\"\n",
    "                icon = \"pen-nib\"\n",
    "            # Create marker with icon for each row in the DataFrame\n",
    "            icon = folium.Icon(\n",
    "                        color=color,\n",
    "                        icon_color=icon_color,\n",
    "                        icon=icon,\n",
    "                        prefix=\"fa\"\n",
    "                )\n",
    "            folium.Marker(location=[row['lat'], row['lon']], popup=row['name'], icon=icon).add_to(layer)\n",
    "            # Add data for heatmap\n",
    "            heatmap_data.append([row['lat'], row['lon'], 1])  # Each point appends its latitude, its longitude and assigns 1 to\n",
    "            # each point, that will be use in the future to select the point with more points near it\n",
    "        layers.append(layer)  # Add marker layer to the list of layers\n",
    "    # Create heatmap layer using the collected data\n",
    "    heatmap_layer = HeatMap(heatmap_data, radius=15, name='Heat Map')\n",
    "    layers.append(heatmap_layer)  # Add heatmap layer to the list of layers\n",
    "    # Find the coordinates in the heatmap with more points near it\n",
    "    max_intensity = max([point[2] for point in heatmap_data]) # this selects the maximum point with more values in the position [2], that will be 1 per point appended\n",
    "    hottest_coordinates = [[point[0], point[1]] for point in heatmap_data if point[2] == max_intensity]\n",
    "    # Create a new layer for the top five points with more coincidences in the map\n",
    "    hottest_points_layer = folium.FeatureGroup(name='Top 5')\n",
    "    for i, coords in enumerate(hottest_coordinates[:5]):\n",
    "        icon_top = folium.Icon(\n",
    "                        color=\"red\",\n",
    "                        icon_color=\"white\",\n",
    "                        icon=\"fire\",\n",
    "                        prefix=\"fa\"\n",
    "                )\n",
    "        folium.Marker(location=coords, popup=f'Hot Point {i+1}', icon=icon_top ).add_to(hottest_points_layer)\n",
    "    layers.append(hottest_points_layer)  # Add the hottest points layer to the list of layers\n",
    "    # Create a new layer for the hottest point\n",
    "    best_company_layer = folium.FeatureGroup(name='Best Company')\n",
    "    icon_best = folium.Icon(\n",
    "                        color=\"darkred\",\n",
    "                        icon_color=\"white\",\n",
    "                        icon=\"trophy\",\n",
    "                        prefix=\"fa\"\n",
    "                )\n",
    "    folium.Marker(location=hottest_coordinates[0], popup='Bandstocks', icon=icon_best).add_to(best_company_layer)\n",
    "    layers.append(best_company_layer)  # Add the single hottest point layer to the list of layers\n",
    "    return layers  # Return the list of layers"
   ]
  },
  {
   "cell_type": "code",
   "execution_count": null,
   "metadata": {},
   "outputs": [],
   "source": [
    "# Create the starting map\n",
    "london_lat = 51.4991568\n",
    "london_lon = -0.1908626\n",
    "london_map = folium.Map(location=[london_lat, london_lon], zoom_start=12)\n",
    "# List of DFs for the function. And list of names for the layers\n",
    "list_dfs = [gaming_companies, schools, design_companies, starbucks]\n",
    "names_dfs = ['gaming companies', 'schools', 'design companies', 'starbucks']\n",
    "# Create layers for each DataFrame in the list\n",
    "layers = create_layers(london_map, list_dfs, names_dfs)\n",
    "# Add each layer to the map\n",
    "for layer in layers:\n",
    "    layer.add_to(london_map)\n",
    "# Add layer control to the map to select which layers to show\n",
    "folium.LayerControl().add_to(london_map)\n",
    "london_map.save(\"heat_map.html\")\n",
    "london_map"
   ]
  },
  {
   "cell_type": "code",
   "execution_count": null,
   "metadata": {},
   "outputs": [],
   "source": [
    "from pymongo import MongoClient\n",
    "import pandas as pd\n",
    "\n",
    "def enviar_lista_dataframe_para_mongodb(lista_de_dataframes, nome_banco):\n",
    "    # Conectar ao servidor MongoDB\n",
    "    client = MongoClient('localhost', 27017)\n",
    "\n",
    "    # Selecionar o banco de dados\n",
    "    db = client[nome_banco]\n",
    "\n",
    "    # Iterar sobre a lista de DataFrames\n",
    "    for idx, dataframe in enumerate(lista_de_dataframes):\n",
    "        # Salvar DataFrame em um arquivo CSV\n",
    "        nome_arquivo_csv = f\"dataframe_{idx}.csv\"\n",
    "        dataframe.to_csv(nome_arquivo_csv, index=False)\n",
    "\n",
    "        # Obter o nome da coleção com base no valor da coluna 'Type'\n",
    "        nome_colecao = dataframe['Type'].iloc[0]  # Assumindo que 'Type' é uma coluna válida\n",
    "\n",
    "        # Selecionar a coleção\n",
    "        colecao = db[nome_colecao]\n",
    "\n",
    "        # Converter DataFrame para dicionário\n",
    "        dados_dict = dataframe.to_dict(orient='records')\n",
    "\n",
    "        # Inserir o dicionário na coleção\n",
    "        colecao.insert_many(dados_dict)\n",
    "\n",
    "# Exemplo de uso\n",
    "# Supondo que você tenha uma lista de DataFrames chamada lista_de_dataframes\n",
    "# e um nome de banco de dados chamado 'seu_banco_de_dados'\n",
    "enviar_lista_dataframe_para_mongodb(lista_de_dataframes, 'seu_banco_de_dados')\n"
   ]
  }
 ],
 "metadata": {
  "kernelspec": {
   "display_name": "Python 3",
   "language": "python",
   "name": "python3"
  },
  "language_info": {
   "codemirror_mode": {
    "name": "ipython",
    "version": 3
   },
   "file_extension": ".py",
   "mimetype": "text/x-python",
   "name": "python",
   "nbconvert_exporter": "python",
   "pygments_lexer": "ipython3",
   "version": "3.11.3"
  }
 },
 "nbformat": 4,
 "nbformat_minor": 2
}
