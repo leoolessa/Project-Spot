{
 "cells": [
  {
   "cell_type": "markdown",
   "metadata": {},
   "source": [
    "# Teste do projeto spot\n",
    "    - pegar o token\n",
    "    - extrair os dados da api\n",
    "    - criar funcoes para extrair os dados "
   ]
  },
  {
   "cell_type": "code",
   "execution_count": null,
   "metadata": {
    "vscode": {
     "languageId": "plaintext"
    }
   },
   "outputs": [],
   "source": [
    "import geopandas\n",
    "import cartoframes\n",
    "import folium"
   ]
  }
 ],
 "metadata": {
  "language_info": {
   "name": "python"
  }
 },
 "nbformat": 4,
 "nbformat_minor": 2
}
