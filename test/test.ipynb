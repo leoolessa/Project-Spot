{
 "cells": [
  {
   "cell_type": "markdown",
   "metadata": {},
   "source": [
    "# Teste do projeto spot\n",
    "    - pegar o token\n",
    "    - extrair os dados da api\n",
    "    - criar funcoes para extrair os dados da API\n",
    "    - cria funcao para exportar para mongo"
   ]
  },
  {
   "cell_type": "markdown",
   "metadata": {},
   "source": [
    "# URL's\n",
    "\n",
    "    # query = barcelona\n",
    "        # - 'https://api.foursquare.com/v3/places/search?query=barcelona' \n",
    "    # query = caffe - near = barcelona\n",
    "        - 'https://api.foursquare.com/v3/places/search?query=coffee&near=barcelona' \n",
    "    # query = caffe / categories = 11124 Business and Professional Services > Office / near = barcelona\n",
    "        - 'https://api.foursquare.com/v3/places/search?query=coffee&categories=11124&near=barcelona'     \n",
    "    # categories = 11124 Business and Professional Services > Office / near = barcelona\n",
    "        - 'https://api.foursquare.com/v3/places/search?categories=11124&near=barcelona'\n",
    "    # near = barcelona\n",
    "        - 'https://api.foursquare.com/v3/places/search?near=barcelona'\n",
    "    # 12057\tCommunity and Government > Education > Primary and Secondary School\n",
    "        - https://api.foursquare.com/v3/places/search?query=escola&categories=12057&near=barcelona    \n",
    "    # 12059\tCommunity and Government > Education > Primary and Secondary School > High School (Tem perto do trablho)\n",
    "    - https://api.foursquare.com/v3/places/search?query=escola&categories=12059&near=barcelona\n"
   ]
  },
  {
   "cell_type": "markdown",
   "metadata": {},
   "source": [
    "# Livrarias"
   ]
  },
  {
   "cell_type": "code",
   "execution_count": 29,
   "metadata": {},
   "outputs": [],
   "source": [
    "import requests\n",
    "import json\n",
    "import geopandas\n",
    "import cartoframes\n",
    "import folium\n",
    "import pandas as pd\n",
    "import getpass\n",
    "from pymongo import MongoClient\n",
    "from dotenv import load_dotenv\n",
    "from bson import json_util\n",
    "from folium import Choropleth, Circle, Marker, Icon, Map\n",
    "from folium.plugins import HeatMap, MarkerCluster"
   ]
  },
  {
   "cell_type": "markdown",
   "metadata": {},
   "source": [
    "# API FourSquare "
   ]
  },
  {
   "cell_type": "markdown",
   "metadata": {},
   "source": [
    "# Token"
   ]
  },
  {
   "cell_type": "code",
   "execution_count": 30,
   "metadata": {},
   "outputs": [
    {
     "data": {
      "text/plain": [
       "True"
      ]
     },
     "execution_count": 30,
     "metadata": {},
     "output_type": "execute_result"
    }
   ],
   "source": [
    "load_dotenv()"
   ]
  },
  {
   "cell_type": "code",
   "execution_count": 31,
   "metadata": {},
   "outputs": [],
   "source": [
    "token = getpass.getpass(\"token: \")\n"
   ]
  },
  {
   "cell_type": "markdown",
   "metadata": {},
   "source": [
    "# Funcao Query"
   ]
  },
  {
   "cell_type": "code",
   "execution_count": 32,
   "metadata": {},
   "outputs": [],
   "source": [
    "def extrator_query(query):\n",
    "    url = f\"https://api.foursquare.com/v3/places/search?query={query}\"\n",
    "                \n",
    "    headers = {\n",
    "        \"accept\": \"application/json\",\n",
    "        \"Authorization\": token\n",
    "    }\n",
    "    response = requests.get(url, headers=headers).json()\n",
    "    return response"
   ]
  },
  {
   "cell_type": "markdown",
   "metadata": {},
   "source": [
    "# Funcao Query Near"
   ]
  },
  {
   "cell_type": "code",
   "execution_count": 55,
   "metadata": {},
   "outputs": [
    {
     "ename": "SyntaxError",
     "evalue": "':' expected after dictionary key (239993632.py, line 8)",
     "output_type": "error",
     "traceback": [
      "\u001b[1;36m  Cell \u001b[1;32mIn[55], line 8\u001b[1;36m\u001b[0m\n\u001b[1;33m    ['2.18,41.39'],\u001b[0m\n\u001b[1;37m                 ^\u001b[0m\n\u001b[1;31mSyntaxError\u001b[0m\u001b[1;31m:\u001b[0m ':' expected after dictionary key\n"
     ]
    }
   ],
   "source": [
    "def extrator_ll(query):\n",
    "    \n",
    "    url = \"https://api.foursquare.com/v3/places/search\"\n",
    "\n",
    "    params = {\n",
    "        \"query\": query,\n",
    "        'polygon':  ['2.17,41.40'],\n",
    "                    ['2.18,41.39'],\n",
    "                    ['2.19,41.40'],\n",
    "                    ['2.18,41.40'],\n",
    "                    ['2.17,41.40']\n",
    "        }\n",
    "\n",
    "    headers = {\n",
    "        \"Accept\": \"application/json\",\n",
    "        \"Authorization\": token\n",
    "    }\n",
    "\n",
    "    response = requests.request(\"GET\", url, params=params, headers=headers).json()\n",
    "    return response"
   ]
  },
  {
   "cell_type": "code",
   "execution_count": 54,
   "metadata": {},
   "outputs": [
    {
     "data": {
      "text/plain": [
       "{'message': 'Invalid polygon format specified'}"
      ]
     },
     "execution_count": 54,
     "metadata": {},
     "output_type": "execute_result"
    }
   ],
   "source": [
    "latlong = extrator_ll('school')\n",
    "latlong"
   ]
  },
  {
   "cell_type": "code",
   "execution_count": null,
   "metadata": {},
   "outputs": [
    {
     "name": "stdout",
     "output_type": "stream",
     "text": [
      "CEIP Bogatell - main coordinates: 41.393361, 2.194753\n",
      "CEIP Bogatell - roof coordinates: 41.393361, 2.194753\n",
      "Instituto de Educacion Secundaria Icaria - main coordinates: 41.393439, 2.1963\n",
      "Instituto de Educacion Secundaria Icaria - roof coordinates: 41.393439, 2.1963\n",
      "Ies Fort Pius - main coordinates: 41.394294, 2.179857\n",
      "Ies Fort Pius - roof coordinates: 41.394294, 2.179857\n",
      "Institut D'educacio Secundaria Sant Josep de CalassanÇ - main coordinates: 41.413202, 2.1786\n",
      "Institut D'educacio Secundaria Sant Josep de CalassanÇ - roof coordinates: 41.413202, 2.1786\n",
      "Institut D´Educacio Secundaria Princep de Girona - main coordinates: 41.408027, 2.168291\n",
      "Institut D´Educacio Secundaria Princep de Girona - roof coordinates: 41.408027, 2.168291\n",
      "Institut Salvador Seguí - main coordinates: 41.423034, 2.196703\n",
      "Institut Salvador Seguí - roof coordinates: 41.423034, 2.196703\n",
      "IES Joan Brossa - drop_off coordinates: 41.415195, 2.166839\n",
      "IES Joan Brossa - main coordinates: 41.415042, 2.166952\n",
      "IES Joan Brossa - roof coordinates: 41.415042, 2.166952\n",
      "Liceo Italiano Edoardo Amaldi di Barcelona - main coordinates: 41.398077, 2.162116\n",
      "Liceo Italiano Edoardo Amaldi di Barcelona - roof coordinates: 41.398077, 2.162116\n",
      "La Salle Gràcia - drop_off coordinates: 41.40671, 2.155362\n",
      "La Salle Gràcia - main coordinates: 41.407049, 2.155141\n",
      "La Salle Gràcia - roof coordinates: 41.407049, 2.155141\n",
      "I.E.S Joan Maragall - main coordinates: 41.391468, 2.156898\n"
     ]
    }
   ],
   "source": [
    "for result in latlong['results']:\n",
    "    geocodes = result.get('geocodes', {})  # Get the 'geocodes' dictionary, default to an empty dictionary if not present\n",
    "    for key, coordinates in geocodes.items():\n",
    "        print(f\"{result['name']} - {key} coordinates: {coordinates['latitude']}, {coordinates['longitude']}\")\n"
   ]
  },
  {
   "cell_type": "markdown",
   "metadata": {},
   "source": [
    "# Como enviar o json extraido da api para meu mongo"
   ]
  },
  {
   "cell_type": "code",
   "execution_count": null,
   "metadata": {},
   "outputs": [],
   "source": [
    "def export_to_mongodb(data, col):\n",
    "    # Conectar ao MongoDB (certifique-se de ter o servidor MongoDB em execução)\n",
    "    client = MongoClient(\"localhost\", 27017)\n",
    "\n",
    "    # Escolher ou criar um banco de dados e uma coleção no MongoDB\n",
    "    db = client[\"Project_Spot\"]\n",
    "    collection = db[col]\n",
    "\n",
    "    # Inserir os dados no MongoDB\n",
    "    result = collection.insert_one(data)\n",
    "\n",
    "    # Imprimir o ID do documento inserido\n",
    "    print(f\"Documento inserido com ID: {result.inserted_id}\")\n",
    "\n",
    "    return result"
   ]
  },
  {
   "cell_type": "code",
   "execution_count": null,
   "metadata": {},
   "outputs": [
    {
     "name": "stdout",
     "output_type": "stream",
     "text": [
      "Documento inserido com ID: 65c69c379bac309e38f65eb3\n"
     ]
    },
    {
     "data": {
      "text/plain": [
       "InsertOneResult(ObjectId('65c69c379bac309e38f65eb3'), acknowledged=True)"
      ]
     },
     "execution_count": 19,
     "metadata": {},
     "output_type": "execute_result"
    }
   ],
   "source": [
    "# Enviar dados extraídos para o MongoDB\n",
    "export_to_mongodb(api_data, 'coffe shop')"
   ]
  },
  {
   "cell_type": "code",
   "execution_count": null,
   "metadata": {},
   "outputs": [
    {
     "name": "stdout",
     "output_type": "stream",
     "text": [
      " coordinates: 41.384965, 2.164582\n",
      " coordinates: 41.384965, 2.164582\n",
      " coordinates: 41.381567, 2.159095\n",
      " coordinates: 41.381567, 2.159095\n",
      " coordinates: 41.398077, 2.162116\n",
      " coordinates: 41.398077, 2.162116\n",
      " coordinates: 41.400852, 2.17776\n",
      " coordinates: 41.400852, 2.17776\n",
      " coordinates: 41.376394, 2.160389\n",
      " coordinates: 41.376394, 2.160389\n",
      " coordinates: 41.373088, 2.174453\n",
      " coordinates: 41.373088, 2.174453\n",
      " coordinates: 41.402755, 2.183019\n",
      " coordinates: 41.402755, 2.183019\n",
      " coordinates: 41.391011, 2.147691\n",
      " coordinates: 41.391011, 2.147691\n",
      " coordinates: 41.40671, 2.155362\n",
      " coordinates: 41.407049, 2.155141\n",
      " coordinates: 41.407049, 2.155141\n",
      " coordinates: 41.39396, 2.202743\n",
      " coordinates: 41.39396, 2.202743\n"
     ]
    }
   ],
   "source": [
    "# verificar coordenadas\n",
    "for result in api_data['results']:\n",
    "    geocodes = result.get('geocodes', {})  # Get the 'geocodes' dictionary, default to an empty dictionary if not present\n",
    "    for key, coordinates in geocodes.items():\n",
    "        print(f\" coordinates: {coordinates['latitude']}, {coordinates['longitude']}\")\n",
    "\n",
    "\n"
   ]
  }
 ],
 "metadata": {
  "kernelspec": {
   "display_name": "Python 3",
   "language": "python",
   "name": "python3"
  },
  "language_info": {
   "codemirror_mode": {
    "name": "ipython",
    "version": 3
   },
   "file_extension": ".py",
   "mimetype": "text/x-python",
   "name": "python",
   "nbconvert_exporter": "python",
   "pygments_lexer": "ipython3",
   "version": "3.11.3"
  }
 },
 "nbformat": 4,
 "nbformat_minor": 2
}
